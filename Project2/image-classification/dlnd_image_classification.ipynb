{
 "cells": [
  {
   "cell_type": "markdown",
   "metadata": {
    "collapsed": true,
    "deletable": true,
    "editable": true
   },
   "source": [
    "# Image Classification\n",
    "In this project, you'll classify images from the [CIFAR-10 dataset](https://www.cs.toronto.edu/~kriz/cifar.html).  The dataset consists of airplanes, dogs, cats, and other objects. You'll preprocess the images, then train a convolutional neural network on all the samples. The images need to be normalized and the labels need to be one-hot encoded.  You'll get to apply what you learned and build a convolutional, max pooling, dropout, and fully connected layers.  At the end, you'll get to see your neural network's predictions on the sample images.\n",
    "## Get the Data\n",
    "Run the following cell to download the [CIFAR-10 dataset for python](https://www.cs.toronto.edu/~kriz/cifar-10-python.tar.gz)."
   ]
  },
  {
   "cell_type": "code",
   "execution_count": 27,
   "metadata": {
    "collapsed": false,
    "deletable": true,
    "editable": true
   },
   "outputs": [
    {
     "name": "stdout",
     "output_type": "stream",
     "text": [
      "All files found!\n"
     ]
    }
   ],
   "source": [
    "\"\"\"\n",
    "DON'T MODIFY ANYTHING IN THIS CELL THAT IS BELOW THIS LINE\n",
    "\"\"\"\n",
    "from urllib.request import urlretrieve\n",
    "from os.path import isfile, isdir\n",
    "from tqdm import tqdm\n",
    "import problem_unittests as tests\n",
    "import tarfile\n",
    "\n",
    "cifar10_dataset_folder_path = 'cifar-10-batches-py'\n",
    "\n",
    "# Use Floyd's cifar-10 dataset if present\n",
    "floyd_cifar10_location = '/cifar/cifar-10-python.tar.gz'\n",
    "if isfile(floyd_cifar10_location):\n",
    "    tar_gz_path = floyd_cifar10_location\n",
    "else:\n",
    "    tar_gz_path = 'cifar-10-python.tar.gz'\n",
    "\n",
    "class DLProgress(tqdm):\n",
    "    last_block = 0\n",
    "\n",
    "    def hook(self, block_num=1, block_size=1, total_size=None):\n",
    "        self.total = total_size\n",
    "        self.update((block_num - self.last_block) * block_size)\n",
    "        self.last_block = block_num\n",
    "\n",
    "if not isfile(tar_gz_path):\n",
    "    with DLProgress(unit='B', unit_scale=True, miniters=1, desc='CIFAR-10 Dataset') as pbar:\n",
    "        urlretrieve(\n",
    "            'https://www.cs.toronto.edu/~kriz/cifar-10-python.tar.gz',\n",
    "            tar_gz_path,\n",
    "            pbar.hook)\n",
    "\n",
    "if not isdir(cifar10_dataset_folder_path):\n",
    "    with tarfile.open(tar_gz_path) as tar:\n",
    "        tar.extractall()\n",
    "        tar.close()\n",
    "\n",
    "\n",
    "tests.test_folder_path(cifar10_dataset_folder_path)"
   ]
  },
  {
   "cell_type": "markdown",
   "metadata": {
    "deletable": true,
    "editable": true
   },
   "source": [
    "## Explore the Data\n",
    "The dataset is broken into batches to prevent your machine from running out of memory.  The CIFAR-10 dataset consists of 5 batches, named `data_batch_1`, `data_batch_2`, etc.. Each batch contains the labels and images that are one of the following:\n",
    "* airplane\n",
    "* automobile\n",
    "* bird\n",
    "* cat\n",
    "* deer\n",
    "* dog\n",
    "* frog\n",
    "* horse\n",
    "* ship\n",
    "* truck\n",
    "\n",
    "Understanding a dataset is part of making predictions on the data.  Play around with the code cell below by changing the `batch_id` and `sample_id`. The `batch_id` is the id for a batch (1-5). The `sample_id` is the id for a image and label pair in the batch.\n",
    "\n",
    "Ask yourself \"What are all possible labels?\", \"What is the range of values for the image data?\", \"Are the labels in order or random?\".  Answers to questions like these will help you preprocess the data and end up with better predictions."
   ]
  },
  {
   "cell_type": "code",
   "execution_count": 28,
   "metadata": {
    "collapsed": false,
    "deletable": true,
    "editable": true
   },
   "outputs": [
    {
     "name": "stdout",
     "output_type": "stream",
     "text": [
      "\n",
      "Stats of batch 1:\n",
      "Samples: 10000\n",
      "Label Counts: {0: 1005, 1: 974, 2: 1032, 3: 1016, 4: 999, 5: 937, 6: 1030, 7: 1001, 8: 1025, 9: 981}\n",
      "First 20 Labels: [6, 9, 9, 4, 1, 1, 2, 7, 8, 3, 4, 7, 7, 2, 9, 9, 9, 3, 2, 6]\n",
      "\n",
      "Example of Image 1:\n",
      "Image - Min Value: 5 Max Value: 254\n",
      "Image - Shape: (32, 32, 3)\n",
      "Label - Label Id: 9 Name: truck\n"
     ]
    },
    {
     "data": {
      "image/png": "[encoded data removed]",
      "text/plain": [
       "<matplotlib.figure.Figure at 0x7fedc73c21d0>"
      ]
     },
     "metadata": {
      "image/png": {
       "height": 250,
       "width": 253
      }
     },
     "output_type": "display_data"
    }
   ],
   "source": [
    "%matplotlib inline\n",
    "%config InlineBackend.figure_format = 'retina'\n",
    "\n",
    "import helper\n",
    "import numpy as np\n",
    "\n",
    "# Explore the dataset\n",
    "batch_id = 1\n",
    "sample_id = 1\n",
    "helper.display_stats(cifar10_dataset_folder_path, batch_id, sample_id)"
   ]
  },
  {
   "cell_type": "markdown",
   "metadata": {
    "deletable": true,
    "editable": true
   },
   "source": [
    "## Implement Preprocess Functions\n",
    "### Normalize\n",
    "In the cell below, implement the `normalize` function to take in image data, `x`, and return it as a normalized Numpy array. The values should be in the range of 0 to 1, inclusive.  The return object should be the same shape as `x`."
   ]
  },
  {
   "cell_type": "code",
   "execution_count": 3,
   "metadata": {
    "collapsed": false,
    "deletable": true,
    "editable": true
   },
   "outputs": [
    {
     "name": "stdout",
     "output_type": "stream",
     "text": [
      "Tests Passed\n"
     ]
    }
   ],
   "source": [
    "def normalize(x):\n",
    "    \"\"\"\n",
    "    Normalize a list of sample image data in the range of 0 to 1\n",
    "    : x: List of image data.  The image shape is (32, 32, 3)\n",
    "    : return: Numpy array of normalize data\n",
    "    \"\"\"\n",
    "    # TODO: Implement Function\n",
    "    return x/255\n",
    "\n",
    "\n",
    "\"\"\"\n",
    "DON'T MODIFY ANYTHING IN THIS CELL THAT IS BELOW THIS LINE\n",
    "\"\"\"\n",
    "tests.test_normalize(normalize)"
   ]
  },
  {
   "cell_type": "markdown",
   "metadata": {
    "deletable": true,
    "editable": true
   },
   "source": [
    "### One-hot encode\n",
    "Just like the previous code cell, you'll be implementing a function for preprocessing.  This time, you'll implement the `one_hot_encode` function. The input, `x`, are a list of labels.  Implement the function to return the list of labels as One-Hot encoded Numpy array.  The possible values for labels are 0 to 9. The one-hot encoding function should return the same encoding for each value between each call to `one_hot_encode`.  Make sure to save the map of encodings outside the function.\n",
    "\n",
    "Hint: Don't reinvent the wheel."
   ]
  },
  {
   "cell_type": "code",
   "execution_count": 4,
   "metadata": {
    "collapsed": false,
    "deletable": true,
    "editable": true
   },
   "outputs": [
    {
     "name": "stdout",
     "output_type": "stream",
     "text": [
      "Tests Passed\n"
     ]
    }
   ],
   "source": [
    "from sklearn.preprocessing import LabelBinarizer\n",
    "\n",
    "label_range = range(10)  # define the range of labels so that encoded vectors have correct length\n",
    "encoder = LabelBinarizer()\n",
    "encoder.fit(label_range)\n",
    "\n",
    "def one_hot_encode(x):\n",
    "    \"\"\"\n",
    "    One hot encode a list of sample labels. Return a one-hot encoded vector for each label.\n",
    "    : x: List of sample Labels\n",
    "    : return: Numpy array of one-hot encoded labels\n",
    "    \"\"\"\n",
    "    return encoder.transform(x)\n",
    "\n",
    "\n",
    "\"\"\"\n",
    "DON'T MODIFY ANYTHING IN THIS CELL THAT IS BELOW THIS LINE\n",
    "\"\"\"\n",
    "tests.test_one_hot_encode(one_hot_encode)"
   ]
  },
  {
   "cell_type": "markdown",
   "metadata": {
    "deletable": true,
    "editable": true
   },
   "source": [
    "### Randomize Data\n",
    "As you saw from exploring the data above, the order of the samples are randomized.  It doesn't hurt to randomize it again, but you don't need to for this dataset."
   ]
  },
  {
   "cell_type": "markdown",
   "metadata": {
    "deletable": true,
    "editable": true
   },
   "source": [
    "## Preprocess all the data and save it\n",
    "Running the code cell below will preprocess all the CIFAR-10 data and save it to file. The code below also uses 10% of the training data for validation."
   ]
  },
  {
   "cell_type": "code",
   "execution_count": 5,
   "metadata": {
    "collapsed": true,
    "deletable": true,
    "editable": true
   },
   "outputs": [],
   "source": [
    "\"\"\"\n",
    "DON'T MODIFY ANYTHING IN THIS CELL\n",
    "\"\"\"\n",
    "# Preprocess Training, Validation, and Testing Data\n",
    "helper.preprocess_and_save_data(cifar10_dataset_folder_path, normalize, one_hot_encode)"
   ]
  },
  {
   "cell_type": "markdown",
   "metadata": {
    "deletable": true,
    "editable": true
   },
   "source": [
    "# Check Point\n",
    "This is your first checkpoint.  If you ever decide to come back to this notebook or have to restart the notebook, you can start from here.  The preprocessed data has been saved to disk."
   ]
  },
  {
   "cell_type": "code",
   "execution_count": 1,
   "metadata": {
    "collapsed": true,
    "deletable": true,
    "editable": true
   },
   "outputs": [],
   "source": [
    "\"\"\"\n",
    "DON'T MODIFY ANYTHING IN THIS CELL\n",
    "\"\"\"\n",
    "import pickle\n",
    "import problem_unittests as tests\n",
    "import helper\n",
    "import numpy as np\n",
    "\n",
    "# Load the Preprocessed Validation data\n",
    "valid_features, valid_labels = pickle.load(open('preprocess_validation.p', mode='rb'))"
   ]
  },
  {
   "cell_type": "markdown",
   "metadata": {
    "deletable": true,
    "editable": true
   },
   "source": [
    "## Build the network\n",
    "For the neural network, you'll build each layer into a function.  Most of the code you've seen has been outside of functions. To test your code more thoroughly, we require that you put each layer in a function.  This allows us to give you better feedback and test for simple mistakes using our unittests before you submit your project.\n",
    "\n",
    ">**Note:** If you're finding it hard to dedicate enough time for this course each week, we've provided a small shortcut to this part of the project. In the next couple of problems, you'll have the option to use classes from the [TensorFlow Layers](https://www.tensorflow.org/api_docs/python/tf/layers) or [TensorFlow Layers (contrib)](https://www.tensorflow.org/api_guides/python/contrib.layers) packages to build each layer, except the layers you build in the \"Convolutional and Max Pooling Layer\" section.  TF Layers is similar to Keras's and TFLearn's abstraction to layers, so it's easy to pickup.\n",
    "\n",
    ">However, if you would like to get the most out of this course, try to solve all the problems _without_ using anything from the TF Layers packages. You **can** still use classes from other packages that happen to have the same name as ones you find in TF Layers! For example, instead of using the TF Layers version of the `conv2d` class, [tf.layers.conv2d](https://www.tensorflow.org/api_docs/python/tf/layers/conv2d), you would want to use the TF Neural Network version of `conv2d`, [tf.nn.conv2d](https://www.tensorflow.org/api_docs/python/tf/nn/conv2d). \n",
    "\n",
    "Let's begin!\n",
    "\n",
    "### Input\n",
    "The neural network needs to read the image data, one-hot encoded labels, and dropout keep probability. Implement the following functions\n",
    "* Implement `neural_net_image_input`\n",
    " * Return a [TF Placeholder](https://www.tensorflow.org/api_docs/python/tf/placeholder)\n",
    " * Set the shape using `image_shape` with batch size set to `None`.\n",
    " * Name the TensorFlow placeholder \"x\" using the TensorFlow `name` parameter in the [TF Placeholder](https://www.tensorflow.org/api_docs/python/tf/placeholder).\n",
    "* Implement `neural_net_label_input`\n",
    " * Return a [TF Placeholder](https://www.tensorflow.org/api_docs/python/tf/placeholder)\n",
    " * Set the shape using `n_classes` with batch size set to `None`.\n",
    " * Name the TensorFlow placeholder \"y\" using the TensorFlow `name` parameter in the [TF Placeholder](https://www.tensorflow.org/api_docs/python/tf/placeholder).\n",
    "* Implement `neural_net_keep_prob_input`\n",
    " * Return a [TF Placeholder](https://www.tensorflow.org/api_docs/python/tf/placeholder) for dropout keep probability.\n",
    " * Name the TensorFlow placeholder \"keep_prob\" using the TensorFlow `name` parameter in the [TF Placeholder](https://www.tensorflow.org/api_docs/python/tf/placeholder).\n",
    "\n",
    "These names will be used at the end of the project to load your saved model.\n",
    "\n",
    "Note: `None` for shapes in TensorFlow allow for a dynamic size."
   ]
  },
  {
   "cell_type": "code",
   "execution_count": 2,
   "metadata": {
    "collapsed": false,
    "deletable": true,
    "editable": true
   },
   "outputs": [
    {
     "name": "stdout",
     "output_type": "stream",
     "text": [
      "Image Input Tests Passed.\n",
      "Label Input Tests Passed.\n",
      "Keep Prob Tests Passed.\n"
     ]
    }
   ],
   "source": [
    "import tensorflow as tf\n",
    "\n",
    "def neural_net_image_input(image_shape):\n",
    "    \"\"\"\n",
    "    Return a Tensor for a batch of image input\n",
    "    : image_shape: Shape of the images\n",
    "    : return: Tensor for image input.\n",
    "    \"\"\"\n",
    "    # TODO: Implement Function\n",
    "    return tf.placeholder(tf.float32, shape=[None, image_shape[0], image_shape[1], image_shape[2]], name=\"x\")\n",
    "\n",
    "\n",
    "def neural_net_label_input(n_classes):\n",
    "    \"\"\"\n",
    "    Return a Tensor for a batch of label input\n",
    "    : n_classes: Number of classes\n",
    "    : return: Tensor for label input.\n",
    "    \"\"\"\n",
    "    # TODO: Implement Function\n",
    "    return tf.placeholder(tf.float32, shape=[None, n_classes], name=\"y\")\n",
    "\n",
    "\n",
    "def neural_net_keep_prob_input():\n",
    "    \"\"\"\n",
    "    Return a Tensor for keep probability\n",
    "    : return: Tensor for keep probability.\n",
    "    \"\"\"\n",
    "    # TODO: Implement Function\n",
    "    return tf.placeholder(tf.float32, name=\"keep_prob\")\n",
    "\n",
    "\n",
    "\"\"\"\n",
    "DON'T MODIFY ANYTHING IN THIS CELL THAT IS BELOW THIS LINE\n",
    "\"\"\"\n",
    "tf.reset_default_graph()\n",
    "tests.test_nn_image_inputs(neural_net_image_input)\n",
    "tests.test_nn_label_inputs(neural_net_label_input)\n",
    "tests.test_nn_keep_prob_inputs(neural_net_keep_prob_input)"
   ]
  },
  {
   "cell_type": "markdown",
   "metadata": {
    "deletable": true,
    "editable": true
   },
   "source": [
    "### Convolution and Max Pooling Layer\n",
    "Convolution layers have a lot of success with images. For this code cell, you should implement the function `conv2d_maxpool` to apply convolution then max pooling:\n",
    "* Create the weight and bias using `conv_ksize`, `conv_num_outputs` and the shape of `x_tensor`.\n",
    "* Apply a convolution to `x_tensor` using weight and `conv_strides`.\n",
    " * We recommend you use same padding, but you're welcome to use any padding.\n",
    "* Add bias\n",
    "* Add a nonlinear activation to the convolution.\n",
    "* Apply Max Pooling using `pool_ksize` and `pool_strides`.\n",
    " * We recommend you use same padding, but you're welcome to use any padding.\n",
    "\n",
    "**Note:** You **can't** use [TensorFlow Layers](https://www.tensorflow.org/api_docs/python/tf/layers) or [TensorFlow Layers (contrib)](https://www.tensorflow.org/api_guides/python/contrib.layers) for **this** layer, but you can still use TensorFlow's [Neural Network](https://www.tensorflow.org/api_docs/python/tf/nn) package. You may still use the shortcut option for all the **other** layers."
   ]
  },
  {
   "cell_type": "code",
   "execution_count": 44,
   "metadata": {
    "collapsed": false,
    "deletable": true,
    "editable": true
   },
   "outputs": [
    {
     "name": "stdout",
     "output_type": "stream",
     "text": [
      "Tests Passed\n"
     ]
    }
   ],
   "source": [
    "def conv2d_maxpool(x_tensor, conv_num_outputs, conv_ksize, conv_strides, pool_ksize, pool_strides):\n",
    "    \"\"\"\n",
    "    Apply convolution then max pooling to x_tensor\n",
    "    :param x_tensor: TensorFlow Tensor\n",
    "    :param conv_num_outputs: Number of outputs for the convolutional layer\n",
    "    :param conv_ksize: kernal size 2-D Tuple for the convolutional layer\n",
    "    :param conv_strides: Stride 2-D Tuple for convolution\n",
    "    :param pool_ksize: kernal size 2-D Tuple for pool\n",
    "    :param pool_strides: Stride 2-D Tuple for pool\n",
    "    : return: A tensor that represents convolution and max pooling of x_tensor\n",
    "    \"\"\"\n",
    "    # The shape of the filter weight is (height, width, input_depth, output_depth)\n",
    "    # The shape of the filter bias is (output_depth,) \n",
    "    \n",
    "    #input_depth = int(x_tensor.get_shape()[-1])\n",
    "    \n",
    "    weights = tf.Variable(tf.truncated_normal([conv_ksize[0], \n",
    "                                               conv_ksize[1], \n",
    "                                               int(x_tensor.get_shape()[-1]), \n",
    "                                               conv_num_outputs], stddev=0.1))\n",
    "    bias = tf.Variable(tf.truncated_normal([conv_num_outputs], stddev=0.1)) # bias shape should match output depth\n",
    "\n",
    "    x = tf.nn.conv2d(x_tensor, \n",
    "                     weights, \n",
    "                     strides=[1, conv_strides[0], conv_strides[1], 1], \n",
    "                     padding=\"SAME\")\n",
    "    x = tf.nn.bias_add(x, bias)\n",
    "    x = tf.nn.relu(x)\n",
    "    x = tf.nn.max_pool(x, \n",
    "                       ksize=[1, pool_ksize[0], pool_ksize[0], 1],\n",
    "                       strides=[1, pool_strides[0], pool_strides[1], 1],\n",
    "                       padding=\"SAME\")\n",
    "    \n",
    "    return x \n",
    "\n",
    "\n",
    "\"\"\"\n",
    "DON'T MODIFY ANYTHING IN THIS CELL THAT IS BELOW THIS LINE\n",
    "\"\"\"\n",
    "tests.test_con_pool(conv2d_maxpool)"
   ]
  },
  {
   "cell_type": "markdown",
   "metadata": {
    "deletable": true,
    "editable": true
   },
   "source": [
    "### Flatten Layer\n",
    "Implement the `flatten` function to change the dimension of `x_tensor` from a 4-D tensor to a 2-D tensor.  The output should be the shape (*Batch Size*, *Flattened Image Size*). Shortcut option: you can use classes from the [TensorFlow Layers](https://www.tensorflow.org/api_docs/python/tf/layers) or [TensorFlow Layers (contrib)](https://www.tensorflow.org/api_guides/python/contrib.layers) packages for this layer. For more of a challenge, only use other TensorFlow packages."
   ]
  },
  {
   "cell_type": "code",
   "execution_count": 45,
   "metadata": {
    "collapsed": false,
    "deletable": true,
    "editable": true
   },
   "outputs": [
    {
     "name": "stdout",
     "output_type": "stream",
     "text": [
      "Tests Passed\n"
     ]
    }
   ],
   "source": [
    "# https://stackoverflow.com/questions/36668542/flatten-batch-in-tensorflow\n",
    "\n",
    "def flatten(x_tensor):\n",
    "    \"\"\"\n",
    "    Flatten x_tensor to (Batch Size, Flattened Image Size)\n",
    "    : x_tensor: A tensor of size (Batch Size, ...), where ... are the image dimensions.\n",
    "    : return: A tensor of size (Batch Size, Flattened Image Size).\n",
    "    \"\"\"\n",
    "    # \n",
    "    flattened_size = int(np.prod(x_tensor.shape[1:]))\n",
    "    return tf.reshape(x_tensor, [-1, flattened_size])\n",
    "\n",
    "\n",
    "\"\"\"\n",
    "DON'T MODIFY ANYTHING IN THIS CELL THAT IS BELOW THIS LINE\n",
    "\"\"\"\n",
    "tests.test_flatten(flatten)"
   ]
  },
  {
   "cell_type": "markdown",
   "metadata": {
    "deletable": true,
    "editable": true
   },
   "source": [
    "### Fully-Connected Layer\n",
    "Implement the `fully_conn` function to apply a fully connected layer to `x_tensor` with the shape (*Batch Size*, *num_outputs*). Shortcut option: you can use classes from the [TensorFlow Layers](https://www.tensorflow.org/api_docs/python/tf/layers) or [TensorFlow Layers (contrib)](https://www.tensorflow.org/api_guides/python/contrib.layers) packages for this layer. For more of a challenge, only use other TensorFlow packages."
   ]
  },
  {
   "cell_type": "code",
   "execution_count": 46,
   "metadata": {
    "collapsed": false,
    "deletable": true,
    "editable": true
   },
   "outputs": [
    {
     "name": "stdout",
     "output_type": "stream",
     "text": [
      "Tests Passed\n"
     ]
    }
   ],
   "source": [
    "def fully_conn(x_tensor, num_outputs):\n",
    "    \"\"\"\n",
    "    Apply a fully connected layer to x_tensor using weight and bias\n",
    "    : x_tensor: A 2-D tensor where the first dimension is batch size.\n",
    "    : num_outputs: The number of output that the new tensor should be.\n",
    "    : return: A 2-D tensor where the second dimension is num_outputs.\n",
    "    \"\"\"\n",
    "    \n",
    "    fc_W = tf.Variable(tf.truncated_normal([int(x_tensor.shape[1]), num_outputs], stddev=0.1))\n",
    "    fc_b = tf.Variable(tf.truncated_normal([num_outputs], stddev=0.1))\n",
    "    fc = tf.add(tf.matmul(x_tensor, fc_W), fc_b)\n",
    "    fc = tf.nn.relu(fc)\n",
    "    return fc\n",
    "\n",
    "\n",
    "\"\"\"\n",
    "DON'T MODIFY ANYTHING IN THIS CELL THAT IS BELOW THIS LINE\n",
    "\"\"\"\n",
    "tests.test_fully_conn(fully_conn)"
   ]
  },
  {
   "cell_type": "markdown",
   "metadata": {
    "deletable": true,
    "editable": true
   },
   "source": [
    "### Output Layer\n",
    "Implement the `output` function to apply a fully connected layer to `x_tensor` with the shape (*Batch Size*, *num_outputs*). Shortcut option: you can use classes from the [TensorFlow Layers](https://www.tensorflow.org/api_docs/python/tf/layers) or [TensorFlow Layers (contrib)](https://www.tensorflow.org/api_guides/python/contrib.layers) packages for this layer. For more of a challenge, only use other TensorFlow packages.\n",
    "\n",
    "**Note:** Activation, softmax, or cross entropy should **not** be applied to this."
   ]
  },
  {
   "cell_type": "code",
   "execution_count": 47,
   "metadata": {
    "collapsed": false,
    "deletable": true,
    "editable": true
   },
   "outputs": [
    {
     "name": "stdout",
     "output_type": "stream",
     "text": [
      "Tests Passed\n"
     ]
    }
   ],
   "source": [
    "def output(x_tensor, num_outputs):\n",
    "    \"\"\"\n",
    "    Apply a output layer to x_tensor using weight and bias\n",
    "    : x_tensor: A 2-D tensor where the first dimension is batch size.\n",
    "    : num_outputs: The number of output that the new tensor should be.\n",
    "    : return: A 2-D tensor where the second dimension is num_outputs.\n",
    "    \"\"\"\n",
    "    Out_W = tf.Variable(tf.truncated_normal([x_tensor.shape[1].value, num_outputs], stddev=0.1))\n",
    "    Out_b = tf.Variable(tf.truncated_normal([num_outputs], stddev=0.1))\n",
    "    return tf.add(tf.matmul(x_tensor, Out_W), Out_b)\n",
    "\n",
    "\n",
    "\"\"\"\n",
    "DON'T MODIFY ANYTHING IN THIS CELL THAT IS BELOW THIS LINE\n",
    "\"\"\"\n",
    "tests.test_output(output)"
   ]
  },
  {
   "cell_type": "markdown",
   "metadata": {
    "deletable": true,
    "editable": true
   },
   "source": [
    "### Create Convolutional Model\n",
    "Implement the function `conv_net` to create a convolutional neural network model. The function takes in a batch of images, `x`, and outputs logits.  Use the layers you created above to create this model:\n",
    "\n",
    "* Apply 1, 2, or 3 Convolution and Max Pool layers\n",
    "* Apply a Flatten Layer\n",
    "* Apply 1, 2, or 3 Fully Connected Layers\n",
    "* Apply an Output Layer\n",
    "* Return the output\n",
    "* Apply [TensorFlow's Dropout](https://www.tensorflow.org/api_docs/python/tf/nn/dropout) to one or more layers in the model using `keep_prob`. "
   ]
  },
  {
   "cell_type": "code",
   "execution_count": 48,
   "metadata": {
    "collapsed": false,
    "deletable": true,
    "editable": true
   },
   "outputs": [
    {
     "name": "stdout",
     "output_type": "stream",
     "text": [
      "Neural Network Built!\n"
     ]
    }
   ],
   "source": [
    "def conv_net(x, keep_prob):\n",
    "    \"\"\"\n",
    "    Create a convolutional neural network model\n",
    "    : x: Placeholder tensor that holds image data.\n",
    "    : keep_prob: Placeholder tensor that hold dropout keep probability.\n",
    "    : return: Tensor that represents logits\n",
    "    \"\"\"\n",
    "    \n",
    "    # TODO: Apply 1, 2, or 3 Convolution and Max Pool layers\n",
    "    #    Play around with different number of outputs, kernel size and stride\n",
    "    # Function Definition from Above:  \n",
    "     #    conv2d_maxpool(x_tensor, conv_num_outputs, conv_ksize, conv_strides, pool_ksize, pool_strides)\n",
    "    x = conv2d_maxpool(x, 64, (3, 3), (2, 2), (2, 2), (2, 2))\n",
    "    x = tf.nn.dropout(x, keep_prob)\n",
    "    x = conv2d_maxpool(x, 256, (3, 3), (2, 2), (2, 2), (2, 2))\n",
    "    x = conv2d_maxpool(x, 512, (3, 3), (2, 2), (2, 2), (2, 2))\n",
    "    \n",
    "    # TODO: Apply a Flatten Layer\n",
    "    # Function Definition from Above:\n",
    "    x = flatten(x)\n",
    "    \n",
    "\n",
    "    # TODO: Apply 1, 2, or 3 Fully Connected Layers\n",
    "    #    Play around with different number of outputs\n",
    "    # Function Definition from Above:\n",
    "    x = fully_conn(x, 4096)\n",
    "    x = fully_conn(x, 8192)\n",
    "    \n",
    "    \n",
    "    # TODO: Apply an Output Layer\n",
    "    #    Set this to the number of classes\n",
    "    # Function Definition from Above:\n",
    "    x = output(x, 10)\n",
    "    \n",
    "    \n",
    "    # TODO: return output\n",
    "    return x\n",
    "\n",
    "\n",
    "\"\"\"\n",
    "DON'T MODIFY ANYTHING IN THIS CELL THAT IS BELOW THIS LINE\n",
    "\"\"\"\n",
    "\n",
    "##############################\n",
    "## Build the Neural Network ##\n",
    "##############################\n",
    "\n",
    "# Remove previous weights, bias, inputs, etc..\n",
    "tf.reset_default_graph()\n",
    "\n",
    "# Inputs\n",
    "x = neural_net_image_input((32, 32, 3))\n",
    "y = neural_net_label_input(10)\n",
    "keep_prob = neural_net_keep_prob_input()\n",
    "\n",
    "# Model\n",
    "logits = conv_net(x, keep_prob)\n",
    "#print(logits.get_shape())\n",
    "\n",
    "# Name logits Tensor, so that is can be loaded from disk after training\n",
    "logits = tf.identity(logits, name='logits')\n",
    "#print(logits.get_shape())\n",
    "\n",
    "# Loss and Optimizer\n",
    "cost = tf.reduce_mean(tf.nn.softmax_cross_entropy_with_logits(logits=logits, labels=y))\n",
    "#print(cost.get_shape())\n",
    "optimizer = tf.train.AdamOptimizer().minimize(cost)\n",
    "#print(type(optimizer))\n",
    "\n",
    "# Accuracy\n",
    "correct_pred = tf.equal(tf.argmax(logits, 1), tf.argmax(y, 1))\n",
    "#print(correct_pred[0])\n",
    "accuracy = tf.reduce_mean(tf.cast(correct_pred, tf.float32), name='accuracy')\n",
    "#print(accuracy)\n",
    "\n",
    "tests.test_conv_net(conv_net)"
   ]
  },
  {
   "cell_type": "markdown",
   "metadata": {
    "deletable": true,
    "editable": true
   },
   "source": [
    "## Train the Neural Network\n",
    "### Single Optimization\n",
    "Implement the function `train_neural_network` to do a single optimization.  The optimization should use `optimizer` to optimize in `session` with a `feed_dict` of the following:\n",
    "* `x` for image input\n",
    "* `y` for labels\n",
    "* `keep_prob` for keep probability for dropout\n",
    "\n",
    "This function will be called for each batch, so `tf.global_variables_initializer()` has already been called.\n",
    "\n",
    "Note: Nothing needs to be returned. This function is only optimizing the neural network."
   ]
  },
  {
   "cell_type": "code",
   "execution_count": 49,
   "metadata": {
    "collapsed": false,
    "deletable": true,
    "editable": true
   },
   "outputs": [
    {
     "name": "stdout",
     "output_type": "stream",
     "text": [
      "Tests Passed\n"
     ]
    }
   ],
   "source": [
    "def train_neural_network(session, optimizer, keep_probability, feature_batch, label_batch):\n",
    "    \"\"\"\n",
    "    Optimize the session on a batch of images and labels\n",
    "    : session: Current TensorFlow session\n",
    "    : optimizer: TensorFlow optimizer function\n",
    "    : keep_probability: keep probability\n",
    "    : feature_batch: Batch of Numpy image data\n",
    "    : label_batch: Batch of Numpy label data\n",
    "    \"\"\"\n",
    "\n",
    "    output = session.run(optimizer, feed_dict={x: feature_batch, y: label_batch, keep_prob: keep_probability})\n",
    "\n",
    "\n",
    "\"\"\"\n",
    "DON'T MODIFY ANYTHING IN THIS CELL THAT IS BELOW THIS LINE\n",
    "\"\"\"\n",
    "tests.test_train_nn(train_neural_network)"
   ]
  },
  {
   "cell_type": "markdown",
   "metadata": {
    "deletable": true,
    "editable": true
   },
   "source": [
    "### Show Stats\n",
    "Implement the function `print_stats` to print loss and validation accuracy.  Use the global variables `valid_features` and `valid_labels` to calculate validation accuracy.  Use a keep probability of `1.0` to calculate the loss and validation accuracy."
   ]
  },
  {
   "cell_type": "code",
   "execution_count": 50,
   "metadata": {
    "collapsed": true,
    "deletable": true,
    "editable": true
   },
   "outputs": [],
   "source": [
    "def print_stats(session, feature_batch, label_batch, cost, accuracy):\n",
    "    \"\"\"\n",
    "    Print information about loss and validation accuracy\n",
    "    : session: Current TensorFlow session\n",
    "    : feature_batch: Batch of Numpy image data\n",
    "    : label_batch: Batch of Numpy label data\n",
    "    : cost: TensorFlow cost function\n",
    "    : accuracy: TensorFlow accuracy function\n",
    "    \"\"\"\n",
    "    \n",
    "    # Calculate Accuracy and Loss\n",
    "    loss = session.run(cost, feed_dict={x: feature_batch, \n",
    "                                        y: label_batch, \n",
    "                                        keep_prob: 1.})\n",
    "    acc = session.run(accuracy, feed_dict={x: valid_features, \n",
    "                                           y: valid_labels, \n",
    "                                           keep_prob: 1.})\n",
    "    print('Testing Accuracy: {}'.format(acc))  \n",
    "    print('Testing Loss: {}'.format(loss))\n"
   ]
  },
  {
   "cell_type": "markdown",
   "metadata": {
    "deletable": true,
    "editable": true
   },
   "source": [
    "### Hyperparameters\n",
    "Tune the following parameters:\n",
    "* Set `epochs` to the number of iterations until the network stops learning or start overfitting\n",
    "* Set `batch_size` to the highest number that your machine has memory for.  Most people set them to common sizes of memory:\n",
    " * 64\n",
    " * 128\n",
    " * 256\n",
    " * ...\n",
    "* Set `keep_probability` to the probability of keeping a node using dropout"
   ]
  },
  {
   "cell_type": "code",
   "execution_count": 55,
   "metadata": {
    "collapsed": true,
    "deletable": true,
    "editable": true
   },
   "outputs": [],
   "source": [
    "# TODO: Tune Parameters\n",
    "\n",
    "epochs = 200\n",
    "batch_size = 1024\n",
    "keep_probability = 0.5"
   ]
  },
  {
   "cell_type": "markdown",
   "metadata": {
    "deletable": true,
    "editable": true
   },
   "source": [
    "### Train on a Single CIFAR-10 Batch\n",
    "Instead of training the neural network on all the CIFAR-10 batches of data, let's use a single batch. This should save time while you iterate on the model to get a better accuracy.  Once the final validation accuracy is 50% or greater, run the model on all the data in the next section."
   ]
  },
  {
   "cell_type": "code",
   "execution_count": 56,
   "metadata": {
    "collapsed": false,
    "deletable": true,
    "editable": true,
    "scrolled": true
   },
   "outputs": [
    {
     "name": "stdout",
     "output_type": "stream",
     "text": [
      "Checking the Training on a Single Batch...\n",
      "Epoch  1, CIFAR-10 Batch 1:  Testing Accuracy: 0.09419999271631241\n",
      "Testing Loss: 37.808345794677734\n",
      "Epoch  2, CIFAR-10 Batch 1:  Testing Accuracy: 0.10699999332427979\n",
      "Testing Loss: 6.98094367980957\n",
      "Epoch  3, CIFAR-10 Batch 1:  Testing Accuracy: 0.10439999401569366\n",
      "Testing Loss: 2.827899217605591\n",
      "Epoch  4, CIFAR-10 Batch 1:  Testing Accuracy: 0.10480000078678131\n",
      "Testing Loss: 2.529867172241211\n",
      "Epoch  5, CIFAR-10 Batch 1:  Testing Accuracy: 0.14640000462532043\n",
      "Testing Loss: 2.3908188343048096\n",
      "Epoch  6, CIFAR-10 Batch 1:  Testing Accuracy: 0.13259999454021454\n",
      "Testing Loss: 2.274458169937134\n",
      "Epoch  7, CIFAR-10 Batch 1:  Testing Accuracy: 0.15699999034404755\n",
      "Testing Loss: 2.209923267364502\n",
      "Epoch  8, CIFAR-10 Batch 1:  Testing Accuracy: 0.19999998807907104\n",
      "Testing Loss: 2.181979179382324\n",
      "Epoch  9, CIFAR-10 Batch 1:  Testing Accuracy: 0.21079999208450317\n",
      "Testing Loss: 2.1728219985961914\n",
      "Epoch 10, CIFAR-10 Batch 1:  Testing Accuracy: 0.2125999927520752\n",
      "Testing Loss: 2.1546711921691895\n",
      "Epoch 11, CIFAR-10 Batch 1:  Testing Accuracy: 0.227199986577034\n",
      "Testing Loss: 2.107297420501709\n",
      "Epoch 12, CIFAR-10 Batch 1:  Testing Accuracy: 0.21119998395442963\n",
      "Testing Loss: 2.1054470539093018\n",
      "Epoch 13, CIFAR-10 Batch 1:  Testing Accuracy: 0.2133999764919281\n",
      "Testing Loss: 2.075763702392578\n",
      "Epoch 14, CIFAR-10 Batch 1:  Testing Accuracy: 0.25220000743865967\n",
      "Testing Loss: 2.0556459426879883\n",
      "Epoch 15, CIFAR-10 Batch 1:  Testing Accuracy: 0.2589999735355377\n",
      "Testing Loss: 2.032269239425659\n",
      "Epoch 16, CIFAR-10 Batch 1:  Testing Accuracy: 0.2457999885082245\n",
      "Testing Loss: 2.0331854820251465\n",
      "Epoch 17, CIFAR-10 Batch 1:  Testing Accuracy: 0.25519999861717224\n",
      "Testing Loss: 2.016873598098755\n",
      "Epoch 18, CIFAR-10 Batch 1:  Testing Accuracy: 0.25360000133514404\n",
      "Testing Loss: 2.0163843631744385\n",
      "Epoch 19, CIFAR-10 Batch 1:  Testing Accuracy: 0.26019999384880066\n",
      "Testing Loss: 1.9995055198669434\n",
      "Epoch 20, CIFAR-10 Batch 1:  Testing Accuracy: 0.2651999890804291\n",
      "Testing Loss: 1.9847489595413208\n",
      "Epoch 21, CIFAR-10 Batch 1:  Testing Accuracy: 0.27459999918937683\n",
      "Testing Loss: 1.987980604171753\n",
      "Epoch 22, CIFAR-10 Batch 1:  Testing Accuracy: 0.2853999733924866\n",
      "Testing Loss: 1.9681802988052368\n",
      "Epoch 23, CIFAR-10 Batch 1:  Testing Accuracy: 0.2768000066280365\n",
      "Testing Loss: 1.9731566905975342\n",
      "Epoch 24, CIFAR-10 Batch 1:  Testing Accuracy: 0.27140000462532043\n",
      "Testing Loss: 1.9506888389587402\n",
      "Epoch 25, CIFAR-10 Batch 1:  Testing Accuracy: 0.27539995312690735\n",
      "Testing Loss: 1.9418237209320068\n",
      "Epoch 26, CIFAR-10 Batch 1:  Testing Accuracy: 0.2865999937057495\n",
      "Testing Loss: 1.9668796062469482\n",
      "Epoch 27, CIFAR-10 Batch 1:  Testing Accuracy: 0.2919999659061432\n",
      "Testing Loss: 1.9393014907836914\n",
      "Epoch 28, CIFAR-10 Batch 1:  Testing Accuracy: 0.2953999638557434\n",
      "Testing Loss: 1.9265176057815552\n",
      "Epoch 29, CIFAR-10 Batch 1:  Testing Accuracy: 0.3019999861717224\n",
      "Testing Loss: 1.9023919105529785\n",
      "Epoch 30, CIFAR-10 Batch 1:  Testing Accuracy: 0.3203999996185303\n",
      "Testing Loss: 1.8810906410217285\n",
      "Epoch 31, CIFAR-10 Batch 1:  Testing Accuracy: 0.3083999454975128\n",
      "Testing Loss: 1.897214412689209\n",
      "Epoch 32, CIFAR-10 Batch 1:  Testing Accuracy: 0.30720001459121704\n",
      "Testing Loss: 1.8841382265090942\n",
      "Epoch 33, CIFAR-10 Batch 1:  Testing Accuracy: 0.3163999915122986\n",
      "Testing Loss: 1.8836859464645386\n",
      "Epoch 34, CIFAR-10 Batch 1:  Testing Accuracy: 0.31699997186660767\n",
      "Testing Loss: 1.8634871244430542\n",
      "Epoch 35, CIFAR-10 Batch 1:  Testing Accuracy: 0.3335999846458435\n",
      "Testing Loss: 1.8481805324554443\n",
      "Epoch 36, CIFAR-10 Batch 1:  Testing Accuracy: 0.3070000112056732\n",
      "Testing Loss: 1.8693253993988037\n",
      "Epoch 37, CIFAR-10 Batch 1:  Testing Accuracy: 0.3203999996185303\n",
      "Testing Loss: 1.835372805595398\n",
      "Epoch 38, CIFAR-10 Batch 1:  Testing Accuracy: 0.32580000162124634\n",
      "Testing Loss: 1.8301677703857422\n",
      "Epoch 39, CIFAR-10 Batch 1:  Testing Accuracy: 0.3157999813556671\n",
      "Testing Loss: 1.8298301696777344\n",
      "Epoch 40, CIFAR-10 Batch 1:  Testing Accuracy: 0.3224000036716461\n",
      "Testing Loss: 1.821121096611023\n",
      "Epoch 41, CIFAR-10 Batch 1:  Testing Accuracy: 0.31839999556541443\n",
      "Testing Loss: 1.7952954769134521\n",
      "Epoch 42, CIFAR-10 Batch 1:  Testing Accuracy: 0.32339999079704285\n",
      "Testing Loss: 1.8160308599472046\n",
      "Epoch 43, CIFAR-10 Batch 1:  Testing Accuracy: 0.337799996137619\n",
      "Testing Loss: 1.778688907623291\n",
      "Epoch 44, CIFAR-10 Batch 1:  Testing Accuracy: 0.35019999742507935\n",
      "Testing Loss: 1.7791059017181396\n",
      "Epoch 45, CIFAR-10 Batch 1:  Testing Accuracy: 0.33219996094703674\n",
      "Testing Loss: 1.7718018293380737\n",
      "Epoch 46, CIFAR-10 Batch 1:  Testing Accuracy: 0.35659995675086975\n",
      "Testing Loss: 1.7492718696594238\n",
      "Epoch 47, CIFAR-10 Batch 1:  Testing Accuracy: 0.36139994859695435\n",
      "Testing Loss: 1.7434217929840088\n",
      "Epoch 48, CIFAR-10 Batch 1:  Testing Accuracy: 0.36639997363090515\n",
      "Testing Loss: 1.736505150794983\n",
      "Epoch 49, CIFAR-10 Batch 1:  Testing Accuracy: 0.36180001497268677\n",
      "Testing Loss: 1.723222255706787\n",
      "Epoch 50, CIFAR-10 Batch 1:  Testing Accuracy: 0.370199978351593\n",
      "Testing Loss: 1.7220871448516846\n",
      "Epoch 51, CIFAR-10 Batch 1:  Testing Accuracy: 0.3681999742984772\n",
      "Testing Loss: 1.7107312679290771\n",
      "Epoch 52, CIFAR-10 Batch 1:  Testing Accuracy: 0.36979997158050537\n",
      "Testing Loss: 1.680652141571045\n",
      "Epoch 53, CIFAR-10 Batch 1:  Testing Accuracy: 0.36879998445510864\n",
      "Testing Loss: 1.6797144412994385\n",
      "Epoch 54, CIFAR-10 Batch 1:  Testing Accuracy: 0.3725999593734741\n",
      "Testing Loss: 1.6710963249206543\n",
      "Epoch 55, CIFAR-10 Batch 1:  Testing Accuracy: 0.37619999051094055\n",
      "Testing Loss: 1.6725313663482666\n",
      "Epoch 56, CIFAR-10 Batch 1:  Testing Accuracy: 0.3863999843597412\n",
      "Testing Loss: 1.6364572048187256\n",
      "Epoch 57, CIFAR-10 Batch 1:  Testing Accuracy: 0.3771999776363373\n",
      "Testing Loss: 1.670841097831726\n",
      "Epoch 58, CIFAR-10 Batch 1:  Testing Accuracy: 0.3821999728679657\n",
      "Testing Loss: 1.6726409196853638\n",
      "Epoch 59, CIFAR-10 Batch 1:  Testing Accuracy: 0.39100000262260437\n",
      "Testing Loss: 1.6343989372253418\n",
      "Epoch 60, CIFAR-10 Batch 1:  Testing Accuracy: 0.40539997816085815\n",
      "Testing Loss: 1.6152708530426025\n",
      "Epoch 61, CIFAR-10 Batch 1:  Testing Accuracy: 0.3797999918460846\n",
      "Testing Loss: 1.6332365274429321\n",
      "Epoch 62, CIFAR-10 Batch 1:  Testing Accuracy: 0.3803999722003937\n",
      "Testing Loss: 1.6094332933425903\n",
      "Epoch 63, CIFAR-10 Batch 1:  Testing Accuracy: 0.399399995803833\n",
      "Testing Loss: 1.593170404434204\n",
      "Epoch 64, CIFAR-10 Batch 1:  Testing Accuracy: 0.38919997215270996\n",
      "Testing Loss: 1.6018481254577637\n",
      "Epoch 65, CIFAR-10 Batch 1:  Testing Accuracy: 0.40599995851516724\n",
      "Testing Loss: 1.6229894161224365\n",
      "Epoch 66, CIFAR-10 Batch 1:  Testing Accuracy: 0.40359997749328613\n",
      "Testing Loss: 1.6009418964385986\n",
      "Epoch 67, CIFAR-10 Batch 1:  Testing Accuracy: 0.39899998903274536\n",
      "Testing Loss: 1.5957326889038086\n",
      "Epoch 68, CIFAR-10 Batch 1:  Testing Accuracy: 0.40839993953704834\n",
      "Testing Loss: 1.5763357877731323\n",
      "Epoch 69, CIFAR-10 Batch 1:  Testing Accuracy: 0.40059995651245117\n",
      "Testing Loss: 1.598915934562683\n",
      "Epoch 70, CIFAR-10 Batch 1:  Testing Accuracy: 0.40859997272491455\n",
      "Testing Loss: 1.5571576356887817\n",
      "Epoch 71, CIFAR-10 Batch 1:  Testing Accuracy: 0.40359997749328613\n",
      "Testing Loss: 1.5336922407150269\n",
      "Epoch 72, CIFAR-10 Batch 1:  Testing Accuracy: 0.41019994020462036\n",
      "Testing Loss: 1.5423662662506104\n",
      "Epoch 73, CIFAR-10 Batch 1:  Testing Accuracy: 0.40139997005462646\n",
      "Testing Loss: 1.5448634624481201\n",
      "Epoch 74, CIFAR-10 Batch 1:  Testing Accuracy: 0.41760000586509705\n",
      "Testing Loss: 1.5336412191390991\n",
      "Epoch 75, CIFAR-10 Batch 1:  Testing Accuracy: 0.410599946975708\n",
      "Testing Loss: 1.5620944499969482\n",
      "Epoch 76, CIFAR-10 Batch 1:  Testing Accuracy: 0.41819998621940613\n",
      "Testing Loss: 1.5347944498062134\n",
      "Epoch 77, CIFAR-10 Batch 1:  Testing Accuracy: 0.420199990272522\n",
      "Testing Loss: 1.5175623893737793\n",
      "Epoch 78, CIFAR-10 Batch 1:  Testing Accuracy: 0.41499999165534973\n",
      "Testing Loss: 1.5203635692596436\n",
      "Epoch 79, CIFAR-10 Batch 1:  Testing Accuracy: 0.4121999442577362\n",
      "Testing Loss: 1.524237871170044\n",
      "Epoch 80, CIFAR-10 Batch 1:  Testing Accuracy: 0.4138000011444092\n",
      "Testing Loss: 1.5157670974731445\n",
      "Epoch 81, CIFAR-10 Batch 1:  Testing Accuracy: 0.4229999780654907\n",
      "Testing Loss: 1.500354290008545\n",
      "Epoch 82, CIFAR-10 Batch 1:  Testing Accuracy: 0.43119996786117554\n",
      "Testing Loss: 1.4599019289016724\n",
      "Epoch 83, CIFAR-10 Batch 1:  Testing Accuracy: 0.4299999475479126\n",
      "Testing Loss: 1.4470950365066528\n",
      "Epoch 84, CIFAR-10 Batch 1:  Testing Accuracy: 0.40799999237060547\n",
      "Testing Loss: 1.5104193687438965\n",
      "Epoch 85, CIFAR-10 Batch 1:  Testing Accuracy: 0.41280001401901245\n",
      "Testing Loss: 1.5270932912826538\n",
      "Epoch 86, CIFAR-10 Batch 1:  Testing Accuracy: 0.4261999726295471\n",
      "Testing Loss: 1.4831327199935913\n",
      "Epoch 87, CIFAR-10 Batch 1:  Testing Accuracy: 0.4341999590396881\n",
      "Testing Loss: 1.4573547840118408\n",
      "Epoch 88, CIFAR-10 Batch 1:  Testing Accuracy: 0.4339999854564667\n",
      "Testing Loss: 1.4325565099716187\n",
      "Epoch 89, CIFAR-10 Batch 1:  Testing Accuracy: 0.4275999963283539\n",
      "Testing Loss: 1.457977056503296\n",
      "Epoch 90, CIFAR-10 Batch 1:  Testing Accuracy: 0.42559999227523804\n",
      "Testing Loss: 1.4752857685089111\n",
      "Epoch 91, CIFAR-10 Batch 1:  Testing Accuracy: 0.4352000057697296\n",
      "Testing Loss: 1.4424805641174316\n",
      "Epoch 92, CIFAR-10 Batch 1:  Testing Accuracy: 0.4241999685764313\n",
      "Testing Loss: 1.450392723083496\n",
      "Epoch 93, CIFAR-10 Batch 1:  Testing Accuracy: 0.4479999840259552\n",
      "Testing Loss: 1.3903295993804932\n",
      "Epoch 94, CIFAR-10 Batch 1:  Testing Accuracy: 0.4349999725818634\n",
      "Testing Loss: 1.408134937286377\n",
      "Epoch 95, CIFAR-10 Batch 1:  Testing Accuracy: 0.4195999801158905\n",
      "Testing Loss: 1.450917363166809\n",
      "Epoch 96, CIFAR-10 Batch 1:  Testing Accuracy: 0.4331999719142914\n",
      "Testing Loss: 1.3829947710037231\n",
      "Epoch 97, CIFAR-10 Batch 1:  Testing Accuracy: 0.4299999475479126\n",
      "Testing Loss: 1.424430012702942\n",
      "Epoch 98, CIFAR-10 Batch 1:  Testing Accuracy: 0.43279993534088135\n",
      "Testing Loss: 1.3967444896697998\n",
      "Epoch 99, CIFAR-10 Batch 1:  Testing Accuracy: 0.4391999840736389\n",
      "Testing Loss: 1.3733657598495483\n",
      "Epoch 100, CIFAR-10 Batch 1:  Testing Accuracy: 0.42639994621276855\n",
      "Testing Loss: 1.4398988485336304\n",
      "Epoch 101, CIFAR-10 Batch 1:  Testing Accuracy: 0.43459996581077576\n",
      "Testing Loss: 1.3949781656265259\n",
      "Epoch 102, CIFAR-10 Batch 1:  Testing Accuracy: 0.4355999529361725\n",
      "Testing Loss: 1.4026553630828857\n",
      "Epoch 103, CIFAR-10 Batch 1:  Testing Accuracy: 0.4443999230861664\n",
      "Testing Loss: 1.3633108139038086\n",
      "Epoch 104, CIFAR-10 Batch 1:  Testing Accuracy: 0.44839996099472046\n",
      "Testing Loss: 1.3136131763458252\n",
      "Epoch 105, CIFAR-10 Batch 1:  Testing Accuracy: 0.42399996519088745\n",
      "Testing Loss: 1.364649772644043\n",
      "Epoch 106, CIFAR-10 Batch 1:  Testing Accuracy: 0.45079994201660156\n",
      "Testing Loss: 1.3193789720535278\n",
      "Epoch 107, CIFAR-10 Batch 1:  Testing Accuracy: 0.44759994745254517\n",
      "Testing Loss: 1.2860137224197388\n",
      "Epoch 108, CIFAR-10 Batch 1:  Testing Accuracy: 0.44279998540878296\n",
      "Testing Loss: 1.2838107347488403\n",
      "Epoch 109, CIFAR-10 Batch 1:  Testing Accuracy: 0.4415999948978424\n",
      "Testing Loss: 1.3169916868209839\n",
      "Epoch 110, CIFAR-10 Batch 1:  Testing Accuracy: 0.45819994807243347\n",
      "Testing Loss: 1.2558001279830933\n",
      "Epoch 111, CIFAR-10 Batch 1:  Testing Accuracy: 0.4487999677658081\n",
      "Testing Loss: 1.297389030456543\n",
      "Epoch 112, CIFAR-10 Batch 1:  Testing Accuracy: 0.4565999507904053\n",
      "Testing Loss: 1.2629443407058716\n",
      "Epoch 113, CIFAR-10 Batch 1:  Testing Accuracy: 0.45239996910095215\n",
      "Testing Loss: 1.2571649551391602\n",
      "Epoch 114, CIFAR-10 Batch 1:  Testing Accuracy: 0.45239996910095215\n",
      "Testing Loss: 1.2337825298309326\n",
      "Epoch 115, CIFAR-10 Batch 1:  Testing Accuracy: 0.44599997997283936\n",
      "Testing Loss: 1.2533397674560547\n",
      "Epoch 116, CIFAR-10 Batch 1:  Testing Accuracy: 0.4416000247001648\n",
      "Testing Loss: 1.2516940832138062\n",
      "Epoch 117, CIFAR-10 Batch 1:  Testing Accuracy: 0.4503999352455139\n",
      "Testing Loss: 1.2364392280578613\n",
      "Epoch 118, CIFAR-10 Batch 1:  Testing Accuracy: 0.45319995284080505\n",
      "Testing Loss: 1.2079317569732666\n",
      "Epoch 119, CIFAR-10 Batch 1:  Testing Accuracy: 0.45319998264312744\n",
      "Testing Loss: 1.214348316192627\n",
      "Epoch 120, CIFAR-10 Batch 1:  Testing Accuracy: 0.45899996161460876\n",
      "Testing Loss: 1.1874535083770752\n",
      "Epoch 121, CIFAR-10 Batch 1:  Testing Accuracy: 0.46859994530677795\n",
      "Testing Loss: 1.1592426300048828\n",
      "Epoch 122, CIFAR-10 Batch 1:  Testing Accuracy: 0.453000009059906\n",
      "Testing Loss: 1.1767280101776123\n",
      "Epoch 123, CIFAR-10 Batch 1:  Testing Accuracy: 0.4551999866962433\n",
      "Testing Loss: 1.1606700420379639\n",
      "Epoch 124, CIFAR-10 Batch 1:  Testing Accuracy: 0.4591999650001526\n",
      "Testing Loss: 1.1497728824615479\n",
      "Epoch 125, CIFAR-10 Batch 1:  Testing Accuracy: 0.46299996972084045\n",
      "Testing Loss: 1.1789034605026245\n",
      "Epoch 126, CIFAR-10 Batch 1:  Testing Accuracy: 0.4423999786376953\n",
      "Testing Loss: 1.185006022453308\n",
      "Epoch 127, CIFAR-10 Batch 1:  Testing Accuracy: 0.46219998598098755\n",
      "Testing Loss: 1.125891089439392\n",
      "Epoch 128, CIFAR-10 Batch 1:  Testing Accuracy: 0.45819997787475586\n",
      "Testing Loss: 1.132735252380371\n",
      "Epoch 129, CIFAR-10 Batch 1:  Testing Accuracy: 0.4517999589443207\n",
      "Testing Loss: 1.163558006286621\n",
      "Epoch 130, CIFAR-10 Batch 1:  Testing Accuracy: 0.46859994530677795\n",
      "Testing Loss: 1.0924863815307617\n",
      "Epoch 131, CIFAR-10 Batch 1:  Testing Accuracy: 0.462399959564209\n",
      "Testing Loss: 1.0773299932479858\n",
      "Epoch 132, CIFAR-10 Batch 1:  Testing Accuracy: 0.45639994740486145\n",
      "Testing Loss: 1.0988719463348389\n",
      "Epoch 133, CIFAR-10 Batch 1:  Testing Accuracy: 0.464199960231781\n",
      "Testing Loss: 1.0851528644561768\n",
      "Epoch 134, CIFAR-10 Batch 1:  Testing Accuracy: 0.47039997577667236\n",
      "Testing Loss: 1.0446900129318237\n",
      "Epoch 135, CIFAR-10 Batch 1:  Testing Accuracy: 0.4607999920845032\n",
      "Testing Loss: 1.0433330535888672\n",
      "Epoch 136, CIFAR-10 Batch 1:  Testing Accuracy: 0.4577999711036682\n",
      "Testing Loss: 1.0582612752914429\n",
      "Epoch 137, CIFAR-10 Batch 1:  Testing Accuracy: 0.4691999554634094\n",
      "Testing Loss: 1.050095558166504\n",
      "Epoch 138, CIFAR-10 Batch 1:  Testing Accuracy: 0.45159998536109924\n",
      "Testing Loss: 1.0857995748519897\n",
      "Epoch 139, CIFAR-10 Batch 1:  Testing Accuracy: 0.4537999629974365\n",
      "Testing Loss: 1.0496023893356323\n",
      "Epoch 140, CIFAR-10 Batch 1:  Testing Accuracy: 0.44999995827674866\n",
      "Testing Loss: 1.0423285961151123\n",
      "Epoch 141, CIFAR-10 Batch 1:  Testing Accuracy: 0.46939998865127563\n",
      "Testing Loss: 0.9881462454795837\n",
      "Epoch 142, CIFAR-10 Batch 1:  Testing Accuracy: 0.45719999074935913\n",
      "Testing Loss: 1.0470290184020996\n",
      "Epoch 143, CIFAR-10 Batch 1:  Testing Accuracy: 0.45959997177124023\n",
      "Testing Loss: 1.0529513359069824\n",
      "Epoch 144, CIFAR-10 Batch 1:  Testing Accuracy: 0.4537999629974365\n",
      "Testing Loss: 1.0436726808547974\n",
      "Epoch 145, CIFAR-10 Batch 1:  Testing Accuracy: 0.45080000162124634\n",
      "Testing Loss: 1.0212334394454956\n",
      "Epoch 146, CIFAR-10 Batch 1:  Testing Accuracy: 0.4665999710559845\n",
      "Testing Loss: 0.9640845060348511\n",
      "Epoch 147, CIFAR-10 Batch 1:  Testing Accuracy: 0.4577999413013458\n",
      "Testing Loss: 0.9936923384666443\n",
      "Epoch 148, CIFAR-10 Batch 1:  Testing Accuracy: 0.47279995679855347\n",
      "Testing Loss: 0.9149983525276184\n",
      "Epoch 149, CIFAR-10 Batch 1:  Testing Accuracy: 0.47079998254776\n",
      "Testing Loss: 0.9143334627151489\n",
      "Epoch 150, CIFAR-10 Batch 1:  Testing Accuracy: 0.4721999764442444\n",
      "Testing Loss: 0.8960806727409363\n",
      "Epoch 151, CIFAR-10 Batch 1:  Testing Accuracy: 0.48719996213912964\n",
      "Testing Loss: 0.8699776530265808\n",
      "Epoch 152, CIFAR-10 Batch 1:  Testing Accuracy: 0.47119995951652527\n",
      "Testing Loss: 0.9369510412216187\n",
      "Epoch 153, CIFAR-10 Batch 1:  Testing Accuracy: 0.4763999581336975\n",
      "Testing Loss: 0.8829402327537537\n",
      "Epoch 154, CIFAR-10 Batch 1:  Testing Accuracy: 0.4843999743461609\n",
      "Testing Loss: 0.8396914601325989\n",
      "Epoch 155, CIFAR-10 Batch 1:  Testing Accuracy: 0.4837999641895294\n",
      "Testing Loss: 0.8258875012397766\n",
      "Epoch 156, CIFAR-10 Batch 1:  Testing Accuracy: 0.48259997367858887\n",
      "Testing Loss: 0.8150309920310974\n",
      "Epoch 157, CIFAR-10 Batch 1:  Testing Accuracy: 0.48979994654655457\n",
      "Testing Loss: 0.8102754354476929\n",
      "Epoch 158, CIFAR-10 Batch 1:  Testing Accuracy: 0.4819999635219574\n",
      "Testing Loss: 0.8011811971664429\n",
      "Epoch 159, CIFAR-10 Batch 1:  Testing Accuracy: 0.46799999475479126\n",
      "Testing Loss: 0.796329140663147\n",
      "Epoch 160, CIFAR-10 Batch 1:  Testing Accuracy: 0.4795999526977539\n",
      "Testing Loss: 0.76637864112854\n",
      "Epoch 161, CIFAR-10 Batch 1:  Testing Accuracy: 0.4785999655723572\n",
      "Testing Loss: 0.7700214982032776\n",
      "Epoch 162, CIFAR-10 Batch 1:  Testing Accuracy: 0.48079994320869446\n",
      "Testing Loss: 0.7482159733772278\n",
      "Epoch 163, CIFAR-10 Batch 1:  Testing Accuracy: 0.4981999397277832\n",
      "Testing Loss: 0.7169707417488098\n",
      "Epoch 164, CIFAR-10 Batch 1:  Testing Accuracy: 0.4747999608516693\n",
      "Testing Loss: 0.7770621180534363\n",
      "Epoch 165, CIFAR-10 Batch 1:  Testing Accuracy: 0.48239997029304504\n",
      "Testing Loss: 0.7242876887321472\n",
      "Epoch 166, CIFAR-10 Batch 1:  Testing Accuracy: 0.47599995136260986\n",
      "Testing Loss: 0.7269149422645569\n",
      "Epoch 167, CIFAR-10 Batch 1:  Testing Accuracy: 0.4851999580860138\n",
      "Testing Loss: 0.6902180910110474\n",
      "Epoch 168, CIFAR-10 Batch 1:  Testing Accuracy: 0.47599998116493225\n",
      "Testing Loss: 0.7145386934280396\n",
      "Epoch 169, CIFAR-10 Batch 1:  Testing Accuracy: 0.4869999587535858\n",
      "Testing Loss: 0.668065071105957\n",
      "Epoch 170, CIFAR-10 Batch 1:  Testing Accuracy: 0.47979995608329773\n",
      "Testing Loss: 0.6572034358978271\n",
      "Epoch 171, CIFAR-10 Batch 1:  Testing Accuracy: 0.47939997911453247\n",
      "Testing Loss: 0.6563796997070312\n",
      "Epoch 172, CIFAR-10 Batch 1:  Testing Accuracy: 0.47819995880126953\n",
      "Testing Loss: 0.628653883934021\n",
      "Epoch 173, CIFAR-10 Batch 1:  Testing Accuracy: 0.4767999053001404\n",
      "Testing Loss: 0.6377073526382446\n",
      "Epoch 174, CIFAR-10 Batch 1:  Testing Accuracy: 0.4790000021457672\n",
      "Testing Loss: 0.6702264547348022\n",
      "Epoch 175, CIFAR-10 Batch 1:  Testing Accuracy: 0.4941999614238739\n",
      "Testing Loss: 0.6102339029312134\n",
      "Epoch 176, CIFAR-10 Batch 1:  Testing Accuracy: 0.4901999533176422\n",
      "Testing Loss: 0.5864190459251404\n",
      "Epoch 177, CIFAR-10 Batch 1:  Testing Accuracy: 0.4833999574184418\n",
      "Testing Loss: 0.5844599008560181\n",
      "Epoch 178, CIFAR-10 Batch 1:  Testing Accuracy: 0.47499996423721313\n",
      "Testing Loss: 0.6008251905441284\n",
      "Epoch 179, CIFAR-10 Batch 1:  Testing Accuracy: 0.4803999662399292\n",
      "Testing Loss: 0.5933226346969604\n",
      "Epoch 180, CIFAR-10 Batch 1:  Testing Accuracy: 0.48819997906684875\n",
      "Testing Loss: 0.5226488709449768\n",
      "Epoch 181, CIFAR-10 Batch 1:  Testing Accuracy: 0.47679996490478516\n",
      "Testing Loss: 0.5312836766242981\n",
      "Epoch 182, CIFAR-10 Batch 1:  Testing Accuracy: 0.4817999601364136\n",
      "Testing Loss: 0.5030486583709717\n",
      "Epoch 183, CIFAR-10 Batch 1:  Testing Accuracy: 0.47679993510246277\n",
      "Testing Loss: 0.5538886785507202\n",
      "Epoch 184, CIFAR-10 Batch 1:  Testing Accuracy: 0.476999968290329\n",
      "Testing Loss: 0.5296746492385864\n",
      "Epoch 185, CIFAR-10 Batch 1:  Testing Accuracy: 0.4865999221801758\n",
      "Testing Loss: 0.4746471345424652\n",
      "Epoch 186, CIFAR-10 Batch 1:  Testing Accuracy: 0.48219993710517883\n",
      "Testing Loss: 0.4911244809627533\n",
      "Epoch 187, CIFAR-10 Batch 1:  Testing Accuracy: 0.4849999248981476\n",
      "Testing Loss: 0.4899652600288391\n",
      "Epoch 188, CIFAR-10 Batch 1:  Testing Accuracy: 0.4777999520301819\n",
      "Testing Loss: 0.4843561351299286\n",
      "Epoch 189, CIFAR-10 Batch 1:  Testing Accuracy: 0.5019999742507935\n",
      "Testing Loss: 0.4150847792625427\n",
      "Epoch 190, CIFAR-10 Batch 1:  Testing Accuracy: 0.4869999587535858\n",
      "Testing Loss: 0.46037837862968445\n",
      "Epoch 191, CIFAR-10 Batch 1:  Testing Accuracy: 0.4745999574661255\n",
      "Testing Loss: 0.4558555483818054\n",
      "Epoch 192, CIFAR-10 Batch 1:  Testing Accuracy: 0.47419992089271545\n",
      "Testing Loss: 0.41541555523872375\n",
      "Epoch 193, CIFAR-10 Batch 1:  Testing Accuracy: 0.4745999872684479\n",
      "Testing Loss: 0.4318995475769043\n",
      "Epoch 194, CIFAR-10 Batch 1:  Testing Accuracy: 0.4825999438762665\n",
      "Testing Loss: 0.3908846080303192\n",
      "Epoch 195, CIFAR-10 Batch 1:  Testing Accuracy: 0.47279995679855347\n",
      "Testing Loss: 0.4251135289669037\n",
      "Epoch 196, CIFAR-10 Batch 1:  Testing Accuracy: 0.4787999093532562\n",
      "Testing Loss: 0.38536062836647034\n",
      "Epoch 197, CIFAR-10 Batch 1:  Testing Accuracy: 0.4731999337673187\n",
      "Testing Loss: 0.3912033438682556\n",
      "Epoch 198, CIFAR-10 Batch 1:  Testing Accuracy: 0.4761999249458313\n",
      "Testing Loss: 0.40288636088371277\n",
      "Epoch 199, CIFAR-10 Batch 1:  Testing Accuracy: 0.4757999777793884\n",
      "Testing Loss: 0.3829304873943329\n",
      "Epoch 200, CIFAR-10 Batch 1:  Testing Accuracy: 0.4689999520778656\n",
      "Testing Loss: 0.3897850215435028\n"
     ]
    }
   ],
   "source": [
    "\"\"\"\n",
    "DON'T MODIFY ANYTHING IN THIS CELL\n",
    "\"\"\"\n",
    "print('Checking the Training on a Single Batch...')\n",
    "with tf.Session() as sess:\n",
    "    # Initializing the variables\n",
    "    sess.run(tf.global_variables_initializer())\n",
    "    \n",
    "    # Training cycle\n",
    "    for epoch in range(epochs):\n",
    "        batch_i = 1\n",
    "        for batch_features, batch_labels in helper.load_preprocess_training_batch(batch_i, batch_size):\n",
    "            train_neural_network(sess, optimizer, keep_probability, batch_features, batch_labels)\n",
    "        print('Epoch {:>2}, CIFAR-10 Batch {}:  '.format(epoch + 1, batch_i), end='')\n",
    "        print_stats(sess, batch_features, batch_labels, cost, accuracy)"
   ]
  },
  {
   "cell_type": "markdown",
   "metadata": {
    "deletable": true,
    "editable": true
   },
   "source": [
    "### Fully Train the Model\n",
    "Now that you got a good accuracy with a single CIFAR-10 batch, try it with all five batches."
   ]
  },
  {
   "cell_type": "code",
   "execution_count": null,
   "metadata": {
    "collapsed": true,
    "deletable": true,
    "editable": true
   },
   "outputs": [],
   "source": [
    "\"\"\"\n",
    "DON'T MODIFY ANYTHING IN THIS CELL\n",
    "\"\"\"\n",
    "save_model_path = './image_classification'\n",
    "\n",
    "print('Training...')\n",
    "with tf.Session() as sess:\n",
    "    # Initializing the variables\n",
    "    sess.run(tf.global_variables_initializer())\n",
    "    \n",
    "    # Training cycle\n",
    "    for epoch in range(epochs):\n",
    "        # Loop over all batches\n",
    "        n_batches = 5\n",
    "        for batch_i in range(1, n_batches + 1):\n",
    "            for batch_features, batch_labels in helper.load_preprocess_training_batch(batch_i, batch_size):\n",
    "                train_neural_network(sess, optimizer, keep_probability, batch_features, batch_labels)\n",
    "            print('Epoch {:>2}, CIFAR-10 Batch {}:  '.format(epoch + 1, batch_i), end='')\n",
    "            print_stats(sess, batch_features, batch_labels, cost, accuracy)\n",
    "            \n",
    "    # Save Model\n",
    "    saver = tf.train.Saver()\n",
    "    save_path = saver.save(sess, save_model_path)"
   ]
  },
  {
   "cell_type": "markdown",
   "metadata": {
    "deletable": true,
    "editable": true
   },
   "source": [
    "# Checkpoint\n",
    "The model has been saved to disk.\n",
    "## Test Model\n",
    "Test your model against the test dataset.  This will be your final accuracy. You should have an accuracy greater than 50%. If you don't, keep tweaking the model architecture and parameters."
   ]
  },
  {
   "cell_type": "code",
   "execution_count": null,
   "metadata": {
    "collapsed": true,
    "deletable": true,
    "editable": true
   },
   "outputs": [],
   "source": [
    "\"\"\"\n",
    "DON'T MODIFY ANYTHING IN THIS CELL\n",
    "\"\"\"\n",
    "%matplotlib inline\n",
    "%config InlineBackend.figure_format = 'retina'\n",
    "\n",
    "import tensorflow as tf\n",
    "import pickle\n",
    "import helper\n",
    "import random\n",
    "\n",
    "# Set batch size if not already set\n",
    "try:\n",
    "    if batch_size:\n",
    "        pass\n",
    "except NameError:\n",
    "    batch_size = 64\n",
    "\n",
    "save_model_path = './image_classification'\n",
    "n_samples = 4\n",
    "top_n_predictions = 3\n",
    "\n",
    "def test_model():\n",
    "    \"\"\"\n",
    "    Test the saved model against the test dataset\n",
    "    \"\"\"\n",
    "\n",
    "    test_features, test_labels = pickle.load(open('preprocess_test.p', mode='rb'))\n",
    "    loaded_graph = tf.Graph()\n",
    "\n",
    "    with tf.Session(graph=loaded_graph) as sess:\n",
    "        # Load model\n",
    "        loader = tf.train.import_meta_graph(save_model_path + '.meta')\n",
    "        loader.restore(sess, save_model_path)\n",
    "\n",
    "        # Get Tensors from loaded model\n",
    "        loaded_x = loaded_graph.get_tensor_by_name('x:0')\n",
    "        loaded_y = loaded_graph.get_tensor_by_name('y:0')\n",
    "        loaded_keep_prob = loaded_graph.get_tensor_by_name('keep_prob:0')\n",
    "        loaded_logits = loaded_graph.get_tensor_by_name('logits:0')\n",
    "        loaded_acc = loaded_graph.get_tensor_by_name('accuracy:0')\n",
    "        \n",
    "        # Get accuracy in batches for memory limitations\n",
    "        test_batch_acc_total = 0\n",
    "        test_batch_count = 0\n",
    "        \n",
    "        for test_feature_batch, test_label_batch in helper.batch_features_labels(test_features, test_labels, batch_size):\n",
    "            test_batch_acc_total += sess.run(\n",
    "                loaded_acc,\n",
    "                feed_dict={loaded_x: test_feature_batch, loaded_y: test_label_batch, loaded_keep_prob: 1.0})\n",
    "            test_batch_count += 1\n",
    "\n",
    "        print('Testing Accuracy: {}\\n'.format(test_batch_acc_total/test_batch_count))\n",
    "\n",
    "        # Print Random Samples\n",
    "        random_test_features, random_test_labels = tuple(zip(*random.sample(list(zip(test_features, test_labels)), n_samples)))\n",
    "        random_test_predictions = sess.run(\n",
    "            tf.nn.top_k(tf.nn.softmax(loaded_logits), top_n_predictions),\n",
    "            feed_dict={loaded_x: random_test_features, loaded_y: random_test_labels, loaded_keep_prob: 1.0})\n",
    "        helper.display_image_predictions(random_test_features, random_test_labels, random_test_predictions)\n",
    "\n",
    "\n",
    "test_model()"
   ]
  },
  {
   "cell_type": "markdown",
   "metadata": {
    "deletable": true,
    "editable": true
   },
   "source": [
    "## Why 50-80% Accuracy?\n",
    "You might be wondering why you can't get an accuracy any higher. First things first, 50% isn't bad for a simple CNN.  Pure guessing would get you 10% accuracy. However, you might notice people are getting scores [well above 80%](http://rodrigob.github.io/are_we_there_yet/build/classification_datasets_results.html#43494641522d3130).  That's because we haven't taught you all there is to know about neural networks. We still need to cover a few more techniques.\n",
    "## Submitting This Project\n",
    "When submitting this project, make sure to run all the cells before saving the notebook.  Save the notebook file as \"dlnd_image_classification.ipynb\" and save it as a HTML file under \"File\" -> \"Download as\".  Include the \"helper.py\" and \"problem_unittests.py\" files in your submission."
   ]
  }
 ],
 "metadata": {
  "kernelspec": {
   "display_name": "Python 3",
   "language": "python",
   "name": "python3"
  },
  "language_info": {
   "codemirror_mode": {
    "name": "ipython",
    "version": 3
   },
   "file_extension": ".py",
   "mimetype": "text/x-python",
   "name": "python",
   "nbconvert_exporter": "python",
   "pygments_lexer": "ipython3",
   "version": "3.5.2"
  },
  "widgets": {
   "state": {},
   "version": "1.1.2"
  }
 },
 "nbformat": 4,
 "nbformat_minor": 1
}
